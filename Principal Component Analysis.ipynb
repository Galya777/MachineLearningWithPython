{
 "cells": [
  {
   "cell_type": "code",
   "execution_count": null,
   "id": "d404e761-aec7-4272-b55c-7cc6e4f04f4c",
   "metadata": {},
   "outputs": [],
   "source": [
    "mglearn.plots.plot_pca_illustration()"
   ]
  }
 ],
 "metadata": {
  "kernelspec": {
   "display_name": "Python 3 (ipykernel)",
   "language": "python",
   "name": "python3"
  },
  "language_info": {
   "codemirror_mode": {
    "name": "ipython",
    "version": 3
   },
   "file_extension": ".py",
   "mimetype": "text/x-python",
   "name": "python",
   "nbconvert_exporter": "python",
   "pygments_lexer": "ipython3",
   "version": "3.11.3"
  }
 },
 "nbformat": 4,
 "nbformat_minor": 5
}
