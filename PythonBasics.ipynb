{
 "cells": [
  {
   "cell_type": "code",
   "execution_count": 1,
   "id": "9f305e6f-399f-446e-9840-54397402c8c4",
   "metadata": {
    "tags": []
   },
   "outputs": [
    {
     "name": "stdout",
     "output_type": "stream",
     "text": [
      "1 2 3\n"
     ]
    }
   ],
   "source": [
    "kind_of_pi = 3.14\n",
    "the_answer = 42\n",
    "our_hero = 'Zaphod Beeblebrox'\n",
    "\n",
    "\n",
    "a, b, c = 1, 2, 3\n",
    "print(a, b, c)"
   ]
  },
  {
   "cell_type": "code",
   "execution_count": null,
   "id": "d52f969c-b899-4795-b5b2-76a648e00bf2",
   "metadata": {},
   "outputs": [],
   "source": []
  },
  {
   "cell_type": "code",
   "execution_count": 6,
   "id": "cfef3fe6-36b3-4fab-bc35-56cf25e0fb9b",
   "metadata": {},
   "outputs": [],
   "source": [
    "# числа\n",
    "one = 1\n",
    "one_and_a_half = 1.5\n",
    "# текстови низове\n",
    "cheese_1 = 'brie'\n",
    "cheese_2 = \"gauda\"\n",
    "# булеви променливи\n",
    "we_love_cheese = True\n",
    "we_dislike_koalas = False\n",
    "\n",
    "# 🤔\n",
    "i = 1j"
   ]
  },
  {
   "cell_type": "code",
   "execution_count": 7,
   "id": "8dbae129-26a6-4a8c-a7cc-933ebeae2d80",
   "metadata": {
    "tags": []
   },
   "outputs": [
    {
     "data": {
      "text/plain": [
       "0.6666666666666666"
      ]
     },
     "execution_count": 7,
     "metadata": {},
     "output_type": "execute_result"
    }
   ],
   "source": [
    "a = 5  # цяло число `int`\n",
    "b = 1.25  # число с десетична запетая `float`\n",
    "(3 + 5)/12"
   ]
  },
  {
   "cell_type": "code",
   "execution_count": 8,
   "id": "d3f563e2-afa3-4885-853b-9448bf27f98a",
   "metadata": {
    "tags": []
   },
   "outputs": [
    {
     "name": "stdout",
     "output_type": "stream",
     "text": [
      "This is a string\n",
      "This is also a string\n",
      "Single quotes shouldn't be escaped inside double quote and vice versa\n",
      "A string with single quotes must've single quotes within it escaped\n",
      "It is said \"We need to escape double quotes withing strings surrounded in double quotes\"\n"
     ]
    }
   ],
   "source": [
    "print('This is a string')\n",
    "print(\"This is also a string\")\n",
    "print(\"Single quotes shouldn't be escaped inside double quote and vice versa\")\n",
    "print('A string with single quotes must\\'ve single quotes within it escaped')\n",
    "print(\"It is said \\\"We need to escape double quotes withing strings surrounded in double quotes\\\"\")"
   ]
  },
  {
   "cell_type": "code",
   "execution_count": 9,
   "id": "c350fb06-1e26-4794-bd89-a804be1c9d9b",
   "metadata": {
    "tags": []
   },
   "outputs": [
    {
     "name": "stdout",
     "output_type": "stream",
     "text": [
      "(-1+0j)\n",
      "-1.0\n",
      "0.0\n"
     ]
    }
   ],
   "source": [
    "i = 1j\n",
    "square_of_i = i * i\n",
    "print(square_of_i)\n",
    "print(square_of_i.real)\n",
    "print(square_of_i.imag)"
   ]
  },
  {
   "cell_type": "code",
   "execution_count": 10,
   "id": "f0884922-61fc-4cd8-989f-9ead7a967dc5",
   "metadata": {
    "tags": []
   },
   "outputs": [
    {
     "name": "stdout",
     "output_type": "stream",
     "text": [
      "3.14\n",
      "approximately three point one four\n"
     ]
    }
   ],
   "source": [
    "pi = 3.14\n",
    "print(pi)\n",
    "pi = 'approximately three point one four'\n",
    "print(pi)"
   ]
  },
  {
   "cell_type": "code",
   "execution_count": 11,
   "id": "8f91dd25-af32-4a8d-8023-ce4d6e5727a5",
   "metadata": {
    "tags": []
   },
   "outputs": [
    {
     "data": {
      "text/plain": [
       "8"
      ]
     },
     "execution_count": 11,
     "metadata": {},
     "output_type": "execute_result"
    }
   ],
   "source": [
    "3 + 5  # събирне на цели числа"
   ]
  },
  {
   "cell_type": "code",
   "execution_count": 12,
   "id": "14254bed-9328-4639-b337-419aa9ea1194",
   "metadata": {
    "tags": []
   },
   "outputs": [
    {
     "data": {
      "text/plain": [
       "8.280000000000001"
      ]
     },
     "execution_count": 12,
     "metadata": {},
     "output_type": "execute_result"
    }
   ],
   "source": [
    "3 + 5.28  # събиране на числа с плаваща запетая (забележете резултата!)"
   ]
  },
  {
   "cell_type": "code",
   "execution_count": 14,
   "id": "51a17e34-ebde-441d-8fbd-4feea7bd01cc",
   "metadata": {
    "tags": []
   },
   "outputs": [
    {
     "data": {
      "text/plain": [
       "'na, na, na, na, na, na, na, na, na, na, na, na, na, na, na, na, na, na, na, na, na, na, na, na, BATMAN!'"
      ]
     },
     "execution_count": 14,
     "metadata": {},
     "output_type": "execute_result"
    }
   ],
   "source": [
    "3 - 8  # изваждане\n",
    "\n",
    "-5\n",
    "\n",
    "\n",
    "1j ** 2  # повдигане на степен\n",
    "\n",
    "(-1+0j)\n",
    "\n",
    "28 / 5  # деление\n",
    "\n",
    "5.6\n",
    "\n",
    "28 // 5  # целичислено деление\n",
    "\n",
    "5\n",
    "\n",
    "28 % 5  # остатък при деление\n",
    "\n",
    "3\n",
    "\n",
    "\n",
    "'баба' + ' ' + 'готви' + ' ' + 'баница'\n",
    "\n",
    "'баба готви баница'\n",
    "\n",
    "24 * 'na, '\n",
    "\n",
    "'na, na, na, na, na, na, na, na, na, na, na, na, na, na, na, na, na, na, na, na, na, na, na, na, '\n",
    "\n",
    "24 * 'na, ' + 'BATMAN!'\n",
    "\n"
   ]
  },
  {
   "cell_type": "code",
   "execution_count": 15,
   "id": "43967118-07c1-4557-86fd-e2069e8bbe40",
   "metadata": {
    "tags": []
   },
   "outputs": [
    {
     "data": {
      "text/plain": [
       "True"
      ]
     },
     "execution_count": 15,
     "metadata": {},
     "output_type": "execute_result"
    }
   ],
   "source": [
    "True and False\n",
    "\n",
    "False\n",
    "\n",
    "True or False\n",
    "\n"
   ]
  },
  {
   "cell_type": "code",
   "execution_count": 16,
   "id": "aa77844d-7809-4946-b265-38ed69e545cf",
   "metadata": {
    "tags": []
   },
   "outputs": [
    {
     "name": "stdout",
     "output_type": "stream",
     "text": [
      "a is less than 20, but more than 10\n"
     ]
    }
   ],
   "source": [
    "a = 15\n",
    "if a < 10:\n",
    "    print('a is less than 10')\n",
    "elif a < 20:\n",
    "    print('a is less than 20, but more than 10')\n",
    "else:\n",
    "    print('a is more than 20')\n"
   ]
  },
  {
   "cell_type": "code",
   "execution_count": 17,
   "id": "a5b645a8-b525-4469-8539-4b85437f7cce",
   "metadata": {
    "tags": []
   },
   "outputs": [
    {
     "name": "stdout",
     "output_type": "stream",
     "text": [
      "0\n",
      "1\n",
      "2\n",
      "3\n",
      "4\n"
     ]
    }
   ],
   "source": [
    "\n",
    "\n",
    "counter = 0\n",
    "while counter < 5:\n",
    "    print(counter)\n",
    "    counter += 1\n",
    "\n"
   ]
  },
  {
   "cell_type": "code",
   "execution_count": 18,
   "id": "1cb2363c-f6e7-4773-9038-f526d757ac10",
   "metadata": {
    "tags": []
   },
   "outputs": [],
   "source": [
    "nil_vector = (0, 0, 0)  # tuple с три елемента\n",
    "a_vector = (3, 4, 5)  # tuple с три елемента\n",
    "vectors = [nil_vector, a_vector]  # list с два елемента, горните tuple-и"
   ]
  },
  {
   "cell_type": "code",
   "execution_count": 19,
   "id": "f6f48ebe-613d-4d96-a5e2-20c0bdd99b67",
   "metadata": {
    "tags": []
   },
   "outputs": [
    {
     "name": "stdout",
     "output_type": "stream",
     "text": [
      "3\n",
      "4\n",
      "5\n"
     ]
    }
   ],
   "source": [
    "for component in a_vector:\n",
    "    print(component)"
   ]
  },
  {
   "cell_type": "code",
   "execution_count": 20,
   "id": "b9b7bb9f-0eac-4cf4-8f57-3bfd8e91164b",
   "metadata": {
    "tags": []
   },
   "outputs": [],
   "source": [
    "things = (nil_vector, vectors, [[(2, 5, 4, 3), 8], 'баба'], 42, False)"
   ]
  },
  {
   "cell_type": "code",
   "execution_count": 21,
   "id": "642dc837-0b08-4b7e-9f38-3b021083c2b0",
   "metadata": {
    "tags": []
   },
   "outputs": [
    {
     "name": "stdout",
     "output_type": "stream",
     "text": [
      "[[(2, 5, 4, 3), 8], 'баба']\n",
      "[[(2, 5, 4, 3), 8], 42]\n"
     ]
    }
   ],
   "source": [
    "print(things[2])\n",
    "things[2][1] = 42\n",
    "print(things[2])\n"
   ]
  },
  {
   "cell_type": "code",
   "execution_count": 22,
   "id": "05afbe19-bc6c-4fd9-99fa-2f25d2e90460",
   "metadata": {
    "tags": []
   },
   "outputs": [
    {
     "data": {
      "text/plain": [
       "[2, 3, 4, 5, 6, 7, 8]"
      ]
     },
     "execution_count": 22,
     "metadata": {},
     "output_type": "execute_result"
    }
   ],
   "source": [
    "indexes = [0, 1, 2, 3, 4, 5, 6, 7, 8]\n",
    "\n",
    "indexes[2:]\n",
    "\n"
   ]
  },
  {
   "cell_type": "code",
   "execution_count": 23,
   "id": "ebf7380e-ee44-4823-8a49-7bde8269ce24",
   "metadata": {
    "tags": []
   },
   "outputs": [
    {
     "data": {
      "text/plain": [
       "[0, 1, 2]"
      ]
     },
     "execution_count": 23,
     "metadata": {},
     "output_type": "execute_result"
    }
   ],
   "source": [
    "indexes[:3]"
   ]
  },
  {
   "cell_type": "code",
   "execution_count": 24,
   "id": "2a0fb2cc-0cfe-481e-8f76-429110682468",
   "metadata": {
    "tags": []
   },
   "outputs": [
    {
     "data": {
      "text/plain": [
       "'Rick Astley'"
      ]
     },
     "execution_count": 24,
     "metadata": {},
     "output_type": "execute_result"
    }
   ],
   "source": [
    "album_artists = {\n",
    "    'Deconstruction': 'Devin Townsend Project',\n",
    "    'Túlélő': 'Leander Kills',\n",
    "    'Malina': 'Leprous',\n",
    "    'Currents': 'Covet',\n",
    "}\n",
    "\n",
    "album_artists['Deconstruction']\n",
    "\n",
    "'Devin Townsend Project'\n",
    "\n",
    "album_artists['Whenever You Need Somebody'] = 'Rick Astley'\n",
    "\n",
    "album_artists['Whenever You Need Somebody']\n",
    "\n"
   ]
  },
  {
   "cell_type": "code",
   "execution_count": 25,
   "id": "67fe1098-4db9-4469-b5da-ff6f5312c634",
   "metadata": {
    "tags": []
   },
   "outputs": [
    {
     "name": "stdout",
     "output_type": "stream",
     "text": [
      "1\n",
      "3\n",
      "5\n",
      "9\n",
      "42\n",
      "12\n",
      "{1, 3, 5, 9, 42, 12}\n",
      "{1024, 1, 3, 5, 9, 42, 12}\n",
      "{1024, 1, 3, 5, 42, 12}\n"
     ]
    }
   ],
   "source": [
    "some_numbers = {1, 5, 9, 12, 3, 42}\n",
    "\n",
    "for number in some_numbers:\n",
    "    print(number)\n",
    "\n",
    "1\n",
    "3\n",
    "5\n",
    "9\n",
    "42\n",
    "12\n",
    "\n",
    "3 in some_numbers\n",
    "\n",
    "True\n",
    "\n",
    "3.14 in some_numbers\n",
    "\n",
    "False\n",
    "\n",
    "print(some_numbers)\n",
    "\n",
    "{1, 3, 5, 9, 42, 12}\n",
    "\n",
    "some_numbers.add(1024)\n",
    "print(some_numbers)\n",
    "\n",
    "{1024, 1, 3, 5, 9, 42, 12}\n",
    "\n",
    "some_numbers.remove(9)\n",
    "print(some_numbers)\n",
    "\n"
   ]
  },
  {
   "cell_type": "code",
   "execution_count": 26,
   "id": "9ac14d18-6aec-4e56-92ec-876e92c62309",
   "metadata": {
    "tags": []
   },
   "outputs": [
    {
     "name": "stdout",
     "output_type": "stream",
     "text": [
      "{}\n",
      "set()\n"
     ]
    }
   ],
   "source": [
    "an_empty_dict = {}\n",
    "an_empty_set = set()\n",
    "print(an_empty_dict)\n",
    "print(an_empty_set)"
   ]
  },
  {
   "cell_type": "code",
   "execution_count": 27,
   "id": "71cac5b8-133f-47c4-8ae7-a57fa79f4ac6",
   "metadata": {
    "tags": []
   },
   "outputs": [
    {
     "name": "stdout",
     "output_type": "stream",
     "text": [
      "[2, 4, 6, 8, 10]\n",
      "{1: 1, 2: 4, 3: 9, 4: 16, 5: 25, 6: 36, 7: 49, 8: 64, 9: 81, 10: 100}\n",
      "[1, 2, 3, 4, 5, 6, 7, 8, 9, 10, 1, 2, 3, 4, 5, 6, 7, 8, 9, 10]\n",
      "{6, 7, 8, 9, 10}\n"
     ]
    }
   ],
   "source": [
    "numbers = [1, 2, 3, 4, 5, 6, 7, 8, 9, 10]\n",
    "\n",
    "even_numbers = [number for number in numbers if number % 2  == 0]\n",
    "print(even_numbers)\n",
    "\n",
    "squares = {number: number ** 2 for number in numbers}\n",
    "print(squares)\n",
    "\n",
    "twice_the_numbers = numbers + numbers\n",
    "print(twice_the_numbers)\n",
    "\n",
    "odd_over_five = {number for number in twice_the_numbers if number > 5}\n",
    "print(odd_over_five)"
   ]
  },
  {
   "cell_type": "code",
   "execution_count": 28,
   "id": "79fb034f-4456-40fd-9b16-dda57e2144ae",
   "metadata": {
    "tags": []
   },
   "outputs": [
    {
     "data": {
      "text/plain": [
       "42"
      ]
     },
     "execution_count": 28,
     "metadata": {},
     "output_type": "execute_result"
    }
   ],
   "source": [
    "def compute_answer(question):\n",
    "    if question == 'The ultimate question of life, the universe and everything':\n",
    "        return 42\n",
    "    else:\n",
    "        return None\n",
    "\n",
    "compute_answer('The ultimate question of life, the universe and everything')\n",
    "\n"
   ]
  },
  {
   "cell_type": "code",
   "execution_count": 30,
   "id": "0590590d-807b-42d1-99f8-5b00c253daa9",
   "metadata": {
    "tags": []
   },
   "outputs": [
    {
     "data": {
      "text/plain": [
       "'оле-ле'"
      ]
     },
     "execution_count": 30,
     "metadata": {},
     "output_type": "execute_result"
    }
   ],
   "source": [
    "def bloat_sum(a, b, invert_result=False, required_type=None):\n",
    "    if required_type:\n",
    "        if not isinstance(a, required_type) or not isinstance(b, required_type):\n",
    "            print('Arguments must be of type {}'.format(required_type))\n",
    "            return None\n",
    "    result = a + b\n",
    "    return -result if invert_result else result\n",
    "\n",
    "\n",
    "bloat_sum(3, 4)\n",
    "\n",
    "7\n",
    "\n",
    "bloat_sum('оле', '-ле')\n",
    "\n"
   ]
  },
  {
   "cell_type": "code",
   "execution_count": 31,
   "id": "1d48d8c9-fea4-45c6-91f9-19ddf07188d0",
   "metadata": {
    "tags": []
   },
   "outputs": [],
   "source": [
    "def i_can_haz_argumentz(*args, **kwargs):\n",
    "    print('args = {} {}'.format(args, type(args)))\n",
    "    print('kwargs = {} {}'.format(kwargs, type(kwargs)))\n"
   ]
  },
  {
   "cell_type": "code",
   "execution_count": 32,
   "id": "a5414834-83e3-4487-9201-34274b832465",
   "metadata": {
    "tags": []
   },
   "outputs": [
    {
     "name": "stdout",
     "output_type": "stream",
     "text": [
      "args = (3, 4, 'сладолед') <class 'tuple'>\n",
      "kwargs = {'animals': ['pony', 'panda', 'koala'], 'people': {'Лъчо', 'Стефан', 'Евгени'}} <class 'dict'>\n"
     ]
    }
   ],
   "source": [
    "i_can_haz_argumentz(3, 4, 'сладолед',\n",
    "                    animals=['pony', 'panda', 'koala'],\n",
    "                    people={'Лъчо', 'Евгени', 'Стефан'})\n"
   ]
  },
  {
   "cell_type": "code",
   "execution_count": 33,
   "id": "dc1ff93d-e78a-49a6-8b30-bf209fb3b8aa",
   "metadata": {
    "tags": []
   },
   "outputs": [
    {
     "data": {
      "text/plain": [
       "3628800"
      ]
     },
     "execution_count": 33,
     "metadata": {},
     "output_type": "execute_result"
    }
   ],
   "source": [
    "def factorial(n):\n",
    "    if n == 0:\n",
    "        return 1\n",
    "    return n * factorial(n-1)\n",
    "\n",
    "factorial(10)"
   ]
  },
  {
   "cell_type": "code",
   "execution_count": 34,
   "id": "7bbf65f5-608b-4881-9681-a9963748147a",
   "metadata": {
    "tags": []
   },
   "outputs": [
    {
     "name": "stdout",
     "output_type": "stream",
     "text": [
      "<function just_return at 0x7effa4d9d8a0> was called with args=(10,), kwargs={}\n"
     ]
    },
    {
     "data": {
      "text/plain": [
       "10"
      ]
     },
     "execution_count": 34,
     "metadata": {},
     "output_type": "execute_result"
    }
   ],
   "source": [
    "def just_return(result):\n",
    "    return result\n",
    "\n",
    "def call_tracker(function):\n",
    "    def tracked(*args, **kwargs):\n",
    "        print('{function} was called with args={args}, kwargs={kwargs}'.format(\n",
    "            function=function,\n",
    "            args=args,\n",
    "            kwargs=kwargs))\n",
    "        return function(*args, **kwargs)\n",
    "    \n",
    "    return tracked\n",
    "\n",
    "track_and_return = call_tracker(just_return)\n",
    "track_and_return(10)\n"
   ]
  },
  {
   "cell_type": "code",
   "execution_count": 35,
   "id": "7d41635c-c823-4e5c-a919-f97f59e523af",
   "metadata": {
    "tags": []
   },
   "outputs": [
    {
     "name": "stdout",
     "output_type": "stream",
     "text": [
      "<function just_return at 0x7effa4d9da80> was called with args=(42,), kwargs={}\n"
     ]
    },
    {
     "data": {
      "text/plain": [
       "42"
      ]
     },
     "execution_count": 35,
     "metadata": {},
     "output_type": "execute_result"
    }
   ],
   "source": [
    "def call_tracker(function):\n",
    "    def tracked(*args, **kwargs):\n",
    "        print('{function} was called with args={args}, kwargs={kwargs}'.format(\n",
    "            function=function,\n",
    "            args=args,\n",
    "            kwargs=kwargs))\n",
    "        return function(*args, **kwargs)\n",
    "    \n",
    "    return tracked\n",
    "\n",
    "@call_tracker\n",
    "def just_return(result):\n",
    "    return result\n",
    "\n",
    "just_return(42)"
   ]
  },
  {
   "cell_type": "code",
   "execution_count": 36,
   "id": "efcbec7b-17c7-401b-befd-41ab849c6475",
   "metadata": {
    "tags": []
   },
   "outputs": [
    {
     "data": {
      "text/plain": [
       "1.0"
      ]
     },
     "execution_count": 36,
     "metadata": {},
     "output_type": "execute_result"
    }
   ],
   "source": [
    "class Vector:\n",
    "    def __init__(self, x, y):\n",
    "        self.x = x\n",
    "        self.y = y\n",
    "\n",
    "v = Vector(1.0, 1.0)\n",
    "v.x"
   ]
  },
  {
   "cell_type": "code",
   "execution_count": 37,
   "id": "867fb4f9-985d-4fef-94ae-d3b304c56887",
   "metadata": {
    "tags": []
   },
   "outputs": [],
   "source": [
    "class Vector:\n",
    "    class VectorIterator:\n",
    "        def __init__(self, vector):\n",
    "            self.vector = vector\n",
    "            self.went_over_x = False\n",
    "            self.went_over_y = False\n",
    "            \n",
    "        def __next__(self):\n",
    "            if not self.went_over_x:\n",
    "                self.went_over_x = True\n",
    "                return self.vector.x\n",
    "            elif not self.went_over_y:\n",
    "                self.went_over_y = True\n",
    "                return self.vector.y\n",
    "            else:\n",
    "                raise StopIteration\n",
    "    \n",
    "    def __init__(self, x, y):\n",
    "        self.x = x\n",
    "        self.y = y\n",
    "\n",
    "    def __iter__(self):\n",
    "        return self.VectorIterator(self)"
   ]
  },
  {
   "cell_type": "code",
   "execution_count": 38,
   "id": "a474d3df-f261-4066-8cec-3010fccf73da",
   "metadata": {
    "tags": []
   },
   "outputs": [
    {
     "name": "stdout",
     "output_type": "stream",
     "text": [
      "Graham Chapman\n",
      "John Cleese\n",
      "Terry Gilliam\n",
      "Eric Idle\n",
      "Terry Jones\n",
      "Michael Palin\n"
     ]
    }
   ],
   "source": [
    "def actors_generator():\n",
    "    yield 'Graham Chapman'\n",
    "    yield 'John Cleese'\n",
    "    yield 'Terry Gilliam'\n",
    "    yield 'Eric Idle'\n",
    "    yield 'Terry Jones'\n",
    "    yield 'Michael Palin'\n",
    "    \n",
    "actors = actors_generator()\n",
    "for actor in actors:\n",
    "    print(actor)"
   ]
  },
  {
   "cell_type": "code",
   "execution_count": 39,
   "id": "589048a6-7b0b-4869-8224-e4b0933a9793",
   "metadata": {
    "tags": []
   },
   "outputs": [
    {
     "name": "stdout",
     "output_type": "stream",
     "text": [
      "3\n",
      "4\n"
     ]
    }
   ],
   "source": [
    "class Vector:\n",
    "    def __init__(self, x, y):\n",
    "        self.x = x\n",
    "        self.y = y\n",
    "\n",
    "    def __iter__(self):\n",
    "        yield self.x\n",
    "        yield self.y\n",
    "        \n",
    "v = Vector(3, 4)\n",
    "for component in v:\n",
    "    print(component)"
   ]
  },
  {
   "cell_type": "code",
   "execution_count": 40,
   "id": "aee8c49b-198e-4f40-8c0e-cb3c9cb4f248",
   "metadata": {
    "tags": []
   },
   "outputs": [
    {
     "name": "stdout",
     "output_type": "stream",
     "text": [
      "2\n",
      "4\n",
      "10\n",
      "12\n",
      "14\n",
      "16\n"
     ]
    }
   ],
   "source": [
    "\n",
    "\n",
    "def even_number_generator(start=2):\n",
    "    if start % 2 == 0:\n",
    "        number = start\n",
    "    else:\n",
    "        number = start + 1\n",
    "    while True:\n",
    "        yield number\n",
    "        number += 2\n",
    "        \n",
    "even_numbers = even_number_generator()\n",
    "print(next(even_numbers))\n",
    "print(next(even_numbers))\n",
    "\n",
    "even_numbers_from_nine = even_number_generator(9)\n",
    "print(next(even_numbers_from_nine))\n",
    "print(next(even_numbers_from_nine))\n",
    "print(next(even_numbers_from_nine))\n",
    "print(next(even_numbers_from_nine))\n",
    "\n"
   ]
  },
  {
   "cell_type": "code",
   "execution_count": 41,
   "id": "6c3e4494-5c32-4074-8907-434597505100",
   "metadata": {
    "tags": []
   },
   "outputs": [
    {
     "name": "stdout",
     "output_type": "stream",
     "text": [
      "2\n",
      "4\n",
      "10\n",
      "12\n",
      "14\n",
      "16\n"
     ]
    }
   ],
   "source": [
    "\n",
    "\n",
    "def even_number_generator(start=2):\n",
    "    if start % 2 == 0:\n",
    "        number = start\n",
    "    else:\n",
    "        number = start + 1\n",
    "    while True:\n",
    "        yield number\n",
    "        number += 2\n",
    "        \n",
    "even_numbers = even_number_generator()\n",
    "print(next(even_numbers))\n",
    "print(next(even_numbers))\n",
    "\n",
    "even_numbers_from_nine = even_number_generator(9)\n",
    "print(next(even_numbers_from_nine))\n",
    "print(next(even_numbers_from_nine))\n",
    "print(next(even_numbers_from_nine))\n",
    "print(next(even_numbers_from_nine))\n",
    "\n"
   ]
  },
  {
   "cell_type": "code",
   "execution_count": 42,
   "id": "deaefa55-64e6-49e7-8a92-e0eb97b19cc1",
   "metadata": {
    "tags": []
   },
   "outputs": [
    {
     "name": "stdout",
     "output_type": "stream",
     "text": [
      "6\n",
      "12\n",
      "18\n",
      "24\n"
     ]
    }
   ],
   "source": [
    "multiples_of_six = (number for number in even_numbers if number % 3 ==0)\n",
    "print(next(multiples_of_six))\n",
    "print(next(multiples_of_six))\n",
    "print(next(multiples_of_six))\n",
    "print(next(multiples_of_six))"
   ]
  },
  {
   "cell_type": "code",
   "execution_count": null,
   "id": "1183eff4-9dac-47d0-8726-97d09ed67e3c",
   "metadata": {
    "tags": []
   },
   "outputs": [],
   "source": [
    "# този ред буквално „забива“ докато операционната система умре заради липса на RAM\n",
    "# или докато реши да убие процеса, защото е твърде лаком\n",
    "multiples_of_six = [number for number in even_numbers if number % 3 == 0] \n",
    "\n",
    "class Person:\n",
    "    def __init__(self, first_name, last_name):\n",
    "        self.first_name, self.last_name = first_name, last_name\n",
    "\n",
    "    def name(self):\n",
    "        return \"{0} {1}\".format(self.first_name, self.last_name)\n",
    "\n",
    "class Doctor(Person):\n",
    "    def name(self):\n",
    "        return \"Ph.D. {0}\".format(Person.name(self))\n",
    "\n",
    "gencho = Person('Евгени', 'Кунев')\n",
    "luchko = Doctor('Лъчезар', 'Божков')\n",
    "\n",
    "print(gencho.name())\n",
    "print(luchko.name())\n",
    "\n"
   ]
  },
  {
   "cell_type": "code",
   "execution_count": null,
   "id": "4ecb8e72-5202-4f25-bec0-14f8b91a1dd7",
   "metadata": {},
   "outputs": [],
   "source": []
  },
  {
   "cell_type": "code",
   "execution_count": 1,
   "id": "36a83dbc-ff77-4e8f-971c-a28aa9d86402",
   "metadata": {
    "tags": []
   },
   "outputs": [
    {
     "name": "stdout",
     "output_type": "stream",
     "text": [
      "amazingly so, nothing bad actually happened\n",
      "we're through...\n"
     ]
    }
   ],
   "source": [
    "try:\n",
    "    1/2\n",
    "except Exception as e:\n",
    "    print(e)\n",
    "else:\n",
    "    print('amazingly so, nothing bad actually happened')\n",
    "finally:\n",
    "    print(\"we're through...\")\n"
   ]
  },
  {
   "cell_type": "code",
   "execution_count": 2,
   "id": "a43838b4-d8bd-49b5-b584-ff1f44c1eb09",
   "metadata": {
    "tags": []
   },
   "outputs": [
    {
     "name": "stdout",
     "output_type": "stream",
     "text": [
      "amazingly so, nothing bad actually happened\n",
      "we're through...\n",
      "amazingly so, nothing bad actually happened\n",
      "we're through...\n"
     ]
    }
   ],
   "source": [
    "try:\n",
    "    1/2\n",
    "except Exception as e:\n",
    "    print(e)\n",
    "else:\n",
    "    print('amazingly so, nothing bad actually happened')\n",
    "finally:\n",
    "    print(\"we're through...\")\n",
    "try:\n",
    "    1/2\n",
    "except Exception as e:\n",
    "    print(e)\n",
    "else:\n",
    "    print('amazingly so, nothing bad actually happened')\n",
    "finally:\n",
    "    print(\"we're through...\")\n"
   ]
  },
  {
   "cell_type": "code",
   "execution_count": 3,
   "id": "85e895be-6f78-40c6-a94b-338bae4adb04",
   "metadata": {
    "tags": []
   },
   "outputs": [],
   "source": [
    "class ComplexNumbers:\n",
    "    def __init__(self, real, im):\n",
    "        self.real = real\n",
    "        self.im = im"
   ]
  },
  {
   "cell_type": "code",
   "execution_count": 7,
   "id": "d7ecbcb4-2283-4021-b3e0-1bd9b8dc73b9",
   "metadata": {
    "tags": []
   },
   "outputs": [
    {
     "ename": "IndentationError",
     "evalue": "unindent does not match any outer indentation level (<tokenize>, line 5)",
     "output_type": "error",
     "traceback": [
      "\u001b[0;36m  File \u001b[0;32m<tokenize>:5\u001b[0;36m\u001b[0m\n\u001b[0;31m    def __mul__(self, other):\u001b[0m\n\u001b[0m    ^\u001b[0m\n\u001b[0;31mIndentationError\u001b[0m\u001b[0;31m:\u001b[0m unindent does not match any outer indentation level\n"
     ]
    }
   ],
   "source": [
    "def __add__(self, other):\n",
    "        return def __add__(self, other):\n",
    "        return ComplexNumbers(self.x + other.x, self.y + other.y)\n",
    "    \n",
    "    def __mul__(self, other):\n",
    "        return ComplexNumbers(self.x * other.x, self.y * other.y)\n",
    "    \n",
    "    def __sub__(self, other):\n",
    "        return self + ComplexNumbers(-other.x, -other.y)\n",
    "    \n",
    "    def __str__(self):\n",
    "        return '<Vector x={x}, y={y}>'.format(x=self.x, y=self.y)def __add__(self, other):\n",
    "        return ComplexNumbers(self.x + other.x, self.y + other.y)\n",
    "    \n",
    "    def __mul__(self, other):\n",
    "        return ComplexNumbers(self.x * other.x, self.y * other.y)\n",
    "    \n",
    "    def __sub__(self, other):\n",
    "        return self + ComplexNumbers(-other.x, -other.y)\n",
    "    \n",
    "    def __str__(self):\n",
    "        return '<Vector x={x}, y={y}>'.format(x=self.x, y=self.y)Vector(self.x + other.x, self.y + other.y)\n",
    "    \n",
    "    def __mul__(self, other):\n",
    "        return ComplexNumbers(self.x * other.x, self.y * other.y)\n",
    "    \n",
    "    def __sub__(self, other):\n",
    "        return self + ComplexNumbers(-other.x, -other.y)\n",
    "    \n",
    "    def __str__(self):\n",
    "        return '<Vector x={x}, y={y}>'.format(x=self.x, y=self.y)"
   ]
  },
  {
   "cell_type": "code",
   "execution_count": null,
   "id": "3cd46c56-49dd-4c81-8344-b33c52d041cd",
   "metadata": {},
   "outputs": [],
   "source": []
  },
  {
   "cell_type": "code",
   "execution_count": null,
   "id": "4818be85-4d4a-4fcc-8550-3dc4ee7e3e9e",
   "metadata": {},
   "outputs": [],
   "source": []
  }
 ],
 "metadata": {
  "kernelspec": {
   "display_name": "Python 3 (ipykernel)",
   "language": "python",
   "name": "python3"
  },
  "language_info": {
   "codemirror_mode": {
    "name": "ipython",
    "version": 3
   },
   "file_extension": ".py",
   "mimetype": "text/x-python",
   "name": "python",
   "nbconvert_exporter": "python",
   "pygments_lexer": "ipython3",
   "version": "3.11.4"
  }
 },
 "nbformat": 4,
 "nbformat_minor": 5
}
